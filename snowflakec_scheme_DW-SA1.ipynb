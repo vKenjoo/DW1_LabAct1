{
 "cells": [
  {
   "cell_type": "code",
   "execution_count": 17,
   "metadata": {},
   "outputs": [
    {
     "name": "stdout",
     "output_type": "stream",
     "text": [
      "Requirement already satisfied: pandas in c:\\users\\blasi\\anaconda3\\lib\\site-packages (2.1.4)Note: you may need to restart the kernel to use updated packages.\n",
      "\n",
      "Requirement already satisfied: numpy<2,>=1.23.2 in c:\\users\\blasi\\anaconda3\\lib\\site-packages (from pandas) (1.26.4)\n",
      "Requirement already satisfied: python-dateutil>=2.8.2 in c:\\users\\blasi\\anaconda3\\lib\\site-packages (from pandas) (2.8.2)\n",
      "Requirement already satisfied: pytz>=2020.1 in c:\\users\\blasi\\anaconda3\\lib\\site-packages (from pandas) (2023.3.post1)\n",
      "Requirement already satisfied: tzdata>=2022.1 in c:\\users\\blasi\\anaconda3\\lib\\site-packages (from pandas) (2023.3)\n",
      "Requirement already satisfied: six>=1.5 in c:\\users\\blasi\\anaconda3\\lib\\site-packages (from python-dateutil>=2.8.2->pandas) (1.16.0)\n"
     ]
    }
   ],
   "source": [
    "%pip install pandas\n",
    "import pandas as pd\n",
    "\n",
    "import networkx as nx\n",
    "import matplotlib.pyplot as plt\n"
   ]
  },
  {
   "cell_type": "code",
   "execution_count": 18,
   "metadata": {},
   "outputs": [],
   "source": [
    "def infer_sql_type(dtype):\n",
    "    if pd.api.types.is_integer_dtype(dtype):\n",
    "        return \"INT\"\n",
    "    elif pd.api.types.is_float_dtype(dtype):\n",
    "        return \"DECIMAL(10, 2)\"\n",
    "    elif pd.api.types.is_datetime64_any_dtype(dtype):\n",
    "        return \"DATE\"\n",
    "    elif pd.api.types.is_string_dtype(dtype):\n",
    "        return \"VARCHAR(255)\"\n",
    "    else:\n",
    "        return \"VARCHAR(255)\"       "
   ]
  },
  {
   "cell_type": "code",
   "execution_count": 19,
   "metadata": {},
   "outputs": [],
   "source": [
    "def generate_dimension_table_sql(table_name, df):\n",
    "    columns_sql = \",\\n  \".join([f\"{col} {infer_sql_type(df[col].dtype)}\" for col in df.columns])\n",
    "    primary_key = df.columns[0]\n",
    "    sql = f\"CREATE TABLE {table_name} (\\n  {columns_sql},\\n  PRIMARY KEY ({primary_key})\\n);\\n\"\n",
    "    return sql"
   ]
  },
  {
   "cell_type": "code",
   "execution_count": 20,
   "metadata": {},
   "outputs": [],
   "source": [
    "def generate_fact_table_sql(table_name, df):\n",
    "    columns_sql = \",\\n  \".join([f\"{col} {infer_sql_type(df[col].dtype)}\" for col in df.columns])\n",
    "    primary_key = df.columns[0]\n",
    "    sql = f\"CREATE TABLE {table_name} (\\n  {columns_sql},\\n  PRIMARY KEY ({primary_key})\\n);\\n\"\n",
    "    return sql\n"
   ]
  },
  {
   "cell_type": "code",
   "execution_count": 21,
   "metadata": {},
   "outputs": [],
   "source": [
    "Patient_Dimension = pd.DataFrame({\n",
    "    'Patient_ID': [1, 2, 3, 4, 5],\n",
    "    'Patient_Name': ['John Doe', 'Jane Smith', 'Michael Johnson', 'Emily Davis', 'David Wilson'],\n",
    "    'Address': ['123 Maple St', '456 Oak Ave', '789 Pine Blvd', '321 Cedar Ln', '654 Birch Dr'],\n",
    "    'City': ['Los Angeles', 'New York', 'Chicago', 'Houston', 'Miami'],\n",
    "    'State': ['California', 'New York', 'Illinois', 'Texas', 'Florida'],\n",
    "    'Country': ['USA']*5,\n",
    "    'Email': ['john.doe@example.com', 'jane.smith@example.com', 'michael.j@example.com', 'emily.d@example.com', 'david.w@example.com'],\n",
    "    'Phone_Number': ['555-123-4567', '555-234-5678', '555-345-6789', '555-456-7890', '555-567-8901'],\n",
    "    'Date_Of_Birth': ['1980-01-15', '1975-02-20', '1985-03-25', '1990-04-30', '1982-05-10'],\n",
    "    'Gender': ['M', 'F', 'M', 'F', 'M'],\n",
    "    'Insurance_ID': ['INS123456', 'INS234567', 'INS345678', 'INS456789', 'INS567890'],\n",
    "    'Primary_Physician': ['Dr. Alice Smith', 'Dr. Bob Brown', 'Dr. Carol White', 'Dr. David Green', 'Dr. Eve Black'],\n",
    "    'Date_Of_Registration': ['2023-01-10', '2023-02-15', '2023-03-18', '2023-04-22', '2023-05-25']\n",
    "})"
   ]
  },
  {
   "cell_type": "code",
   "execution_count": 22,
   "metadata": {},
   "outputs": [],
   "source": [
    "Physician_Dimension = pd.DataFrame({\n",
    "    'Physician_ID': [1, 2, 3, 4, 5],\n",
    "    'Physician_Name': ['Dr. Alice Smith', 'Dr. Bob Brown', 'Dr. Carol White', 'Dr. David Green', 'Dr. Eve Black'],\n",
    "    'Specialty': ['General Medicine', 'Cardiology', 'Orthopedics', 'Neurology', 'Dermatology'],\n",
    "    'Phone_Number': ['555-111-2222', '555-222-3333', '555-333-4444', '555-444-5555', '555-555-6666'],\n",
    "    'Email': ['alice.smith@hospital.com', 'bob.brown@hospital.com', 'carol.white@hospital.com', 'david.green@hospital.com', 'eve.black@hospital.com']\n",
    "})\n"
   ]
  },
  {
   "cell_type": "code",
   "execution_count": 23,
   "metadata": {},
   "outputs": [],
   "source": [
    "Date_Dimension = pd.DataFrame({\n",
    "    'Date_ID': [1, 2, 3, 4, 5],\n",
    "    'Date': ['2023-01-10', '2023-02-15', '2023-03-18', '2023-04-22', '2023-05-25'],\n",
    "    'Day': [10, 15, 18, 22, 25],\n",
    "    'Month': [1, 2, 3, 4, 5],\n",
    "    'Quarter': [1, 1, 1, 2, 2],\n",
    "    'Year': [2023, 2023, 2023, 2023, 2023]\n",
    "})"
   ]
  },
  {
   "cell_type": "code",
   "execution_count": 24,
   "metadata": {},
   "outputs": [],
   "source": [
    "Department_Dimension = pd.DataFrame({\n",
    "    'Department_ID': [1, 2, 3, 4, 5],\n",
    "    'Department_Name': ['General Medicine', 'Cardiology', 'Orthopedics', 'Neurology', 'Dermatology'],\n",
    "    'Location': ['Building A', 'Building B', 'Building C', 'Building D', 'Building E']\n",
    "})"
   ]
  },
  {
   "cell_type": "code",
   "execution_count": 25,
   "metadata": {},
   "outputs": [],
   "source": [
    "\n",
    "Diagnosis_Dimension = pd.DataFrame({\n",
    "    'Diagnosis_Code': ['D001', 'D002', 'D003', 'D004', 'D005'],\n",
    "    'Diagnosis_Description': ['Flu', 'Hypertension', 'Fracture', 'Migraine', 'Acne']\n",
    "})"
   ]
  },
  {
   "cell_type": "code",
   "execution_count": 26,
   "metadata": {},
   "outputs": [],
   "source": [
    "Treatment_Dimension = pd.DataFrame({\n",
    "    'Treatment_Code': ['T001', 'T002', 'T003', 'T004', 'T005'],\n",
    "    'Treatment_Description': ['Antiviral Medication', 'Blood Pressure Medication', 'Casting', 'Pain Management', 'Topical Ointment']\n",
    "})"
   ]
  },
  {
   "cell_type": "code",
   "execution_count": 27,
   "metadata": {},
   "outputs": [],
   "source": [
    "Medical_Visit_Fact = pd.DataFrame({\n",
    "    'Visit_ID': [1, 2, 3, 4, 5],\n",
    "    'Patient_ID': [1, 2, 3, 4, 5],\n",
    "    'Physician_ID': [1, 2, 3, 4, 5],\n",
    "    'Date_ID': [1, 2, 3, 4, 5],\n",
    "    'Department_ID': [1, 2, 3, 4, 5],\n",
    "    'Visit_Type': ['Consultation', 'Follow-up', 'Surgery', 'Emergency', 'Check-up'],\n",
    "    'Diagnosis_Code': ['D001', 'D002', 'D003', 'D004', 'D005'],\n",
    "    'Treatment_Code': ['T001', 'T002', 'T003', 'T004', 'T005'],\n",
    "    'Visit_Cost': [150.00, 200.00, 3000.00, 500.00, 120.00],\n",
    "    'Insurance_Coverage': [100.00, 150.00, 2500.00, 400.00, 100.00]\n",
    "})"
   ]
  },
  {
   "cell_type": "code",
   "execution_count": 28,
   "metadata": {},
   "outputs": [],
   "source": [
    "schema_sql = \"\"\n",
    "schema_sql += generate_fact_table_sql(\"Medical_Visit_Fact\", Medical_Visit_Fact)\n",
    "schema_sql += generate_dimension_table_sql(\"Patient_Dimension\", Patient_Dimension)\n",
    "schema_sql += generate_dimension_table_sql(\"Physician_Dimension\", Physician_Dimension)\n",
    "schema_sql += generate_dimension_table_sql(\"Date_Dimension\", Date_Dimension)\n",
    "schema_sql += generate_dimension_table_sql(\"Department_Dimension\", Department_Dimension)\n",
    "schema_sql += generate_dimension_table_sql(\"Diagnosis_Dimension\", Diagnosis_Dimension)\n",
    "schema_sql += generate_dimension_table_sql(\"Treatment_Dimension\", Treatment_Dimension)"
   ]
  },
  {
   "cell_type": "code",
   "execution_count": 29,
   "metadata": {},
   "outputs": [],
   "source": [
    "def create_snowflake_schema_visual(fact_table_name, dimension_tables):\n",
    "    # Create a new directed graph\n",
    "    dot = Digraph(comment='Snowflake Schema')\n",
    "\n",
    "    # Add the fact table as the central node\n",
    "    dot.node(fact_table_name, fact_table_name, shape='box', style='filled', color='lightblue')\n",
    "\n",
    "    # Add the dimension tables as nodes and connect them to the fact table\n",
    "    for dimension_name in dimension_tables:\n",
    "        dot.node(dimension_name, dimension_name, shape='ellipse', style='filled', color='lightgreen')\n",
    "        dot.edge(dimension_name, fact_table_name)\n",
    "\n",
    "    # Render the graph to a file\n",
    "    dot.render('snowflake_schema', format='png', cleanup=True)\n",
    "    return dot"
   ]
  },
  {
   "cell_type": "code",
   "execution_count": 30,
   "metadata": {},
   "outputs": [],
   "source": [
    "fact_table_name = \"Medical_Visit_Fact\"\n",
    "dimension_tables = {\n",
    "    \"Patient_Dimension\": Patient_Dimension,\n",
    "    \"Physician_Dimension\": Physician_Dimension,\n",
    "    \"Date_Dimension\": Date_Dimension,\n",
    "    \"Department_Dimension\": Department_Dimension,\n",
    "    \"Diagnosis_Dimension\": Diagnosis_Dimension,\n",
    "    \"Treatment_Dimension\": Treatment_Dimension\n",
    "}"
   ]
  },
  {
   "cell_type": "code",
   "execution_count": 31,
   "metadata": {},
   "outputs": [],
   "source": [
    "def create_star_schema_visual():\n",
    "    # Define the fact table and dimension tables\n",
    "    fact_table_name = \"Medical_Visit_Fact\"\n",
    "    dimension_tables = {\n",
    "        \"Patient_Dimension\": ['Patient_ID', 'Patient_Name', 'Address', 'City', 'State', 'Country', 'Email', 'Phone_Number', 'Date_Of_Birth', 'Gender', 'Insurance_ID', 'Primary_Physician', 'Date_Of_Registration'],\n",
    "        \"Physician_Dimension\": ['Physician_ID', 'Physician_Name', 'Specialty', 'Phone_Number', 'Email'],\n",
    "        \"Date_Dimension\": ['Date_ID', 'Date', 'Day', 'Month', 'Quarter', 'Year'],\n",
    "        \"Department_Dimension\": ['Department_ID', 'Department_Name', 'Location'],\n",
    "        \"Diagnosis_Dimension\": ['Diagnosis_Code', 'Diagnosis_Description'],\n",
    "        \"Treatment_Dimension\": ['Treatment_Code', 'Treatment_Description'],\n",
    "    }\n",
    "\n",
    "    # Initialize the graph\n",
    "    G = nx.Graph()\n",
    "\n",
    "    # Add the fact table node\n",
    "    G.add_node(fact_table_name, color='red')\n",
    "\n",
    "    # Add the dimension tables and edges\n",
    "    for dimension_name, attributes in dimension_tables.items():\n",
    "        G.add_node(dimension_name, color='blue')\n",
    "        G.add_edge(dimension_name, fact_table_name)\n",
    "\n",
    "        # Optionally, add the dimension table attributes as separate nodes\n",
    "        for attribute in attributes:\n",
    "            G.add_node(attribute, color='green')\n",
    "            G.add_edge(dimension_name, attribute)\n",
    "\n",
    "    # Draw the graph\n",
    "    pos = nx.spring_layout(G, k=0.05, iterations=500000)  # Fixed layout for reproducibility\n",
    "\n",
    "    # Draw nodes with rectangle shape\n",
    "    node_shapes = ['s']  # 's' is used for squares (rectangles)\n",
    "    for shape in node_shapes:\n",
    "        nx.draw_networkx_nodes(G, pos, nodelist=[fact_table_name], node_shape=shape, node_color='red', node_size=3000)\n",
    "        nx.draw_networkx_nodes(G, pos, nodelist=dimension_tables.keys(), node_shape=shape, node_color='blue', node_size=3000)\n",
    "        nx.draw_networkx_nodes(G, pos, nodelist=[attribute for attributes in dimension_tables.values() for attribute in attributes], node_shape=shape, node_color='green', node_size=2000)\n",
    "\n",
    "    # Draw edges and labels\n",
    "    # Adjust as needed\n",
    "    nx.draw_networkx_edges(G, pos)\n",
    "    nx.draw_networkx_labels(G, pos, font_size=6, font_color='black', font_weight='light')\n",
    "\n",
    "    plt.title('Star Schema Visualization')\n",
    "    plt.show()"
   ]
  },
  {
   "cell_type": "code",
   "execution_count": 32,
   "metadata": {},
   "outputs": [
    {
     "data": {
      "image/png": "[encoded data removed]",
      "text/plain": [
       "<Figure size 640x480 with 1 Axes>"
      ]
     },
     "metadata": {},
     "output_type": "display_data"
    }
   ],
   "source": [
    "create_star_schema_visual()"
   ]
  }
 ],
 "metadata": {
  "kernelspec": {
   "display_name": "base",
   "language": "python",
   "name": "python3"
  },
  "language_info": {
   "codemirror_mode": {
    "name": "ipython",
    "version": 3
   },
   "file_extension": ".py",
   "mimetype": "text/x-python",
   "name": "python",
   "nbconvert_exporter": "python",
   "pygments_lexer": "ipython3",
   "version": "3.11.7"
  }
 },
 "nbformat": 4,
 "nbformat_minor": 2
}
